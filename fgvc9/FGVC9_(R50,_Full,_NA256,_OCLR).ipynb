{
  "nbformat": 4,
  "nbformat_minor": 0,
  "metadata": {
    "colab": {
      "name": "FGVC9 - (R50, Full, NA256, OCLR)",
      "provenance": [],
      "collapsed_sections": [],
      "machine_shape": "hm",
      "authorship_tag": "ABX9TyM8bJWyGLYnEU9j5SrsIchG",
      "include_colab_link": true
    },
    "kernelspec": {
      "name": "python3",
      "display_name": "Python 3"
    },
    "language_info": {
      "name": "python"
    },
    "accelerator": "GPU"
  },
  "cells": [
    {
      "cell_type": "markdown",
      "metadata": {
        "id": "view-in-github",
        "colab_type": "text"
      },
      "source": [
        "<a href=\"https://colab.research.google.com/github/prashanth-acsq/Colab-Notebooks/blob/main/fgvc9/FGVC9_(R50%2C_Full%2C_NA256%2C_OCLR).ipynb\" target=\"_parent\"><img src=\"https://colab.research.google.com/assets/colab-badge.svg\" alt=\"Open In Colab\"/></a>"
      ]
    },
    {
      "cell_type": "markdown",
      "source": [
        "### **Bring Data Into Notebook**"
      ],
      "metadata": {
        "id": "ZfxSNLQluo8d"
      }
    },
    {
      "cell_type": "code",
      "execution_count": null,
      "metadata": {
        "id": "O0VYp5vnuP-w",
        "colab": {
          "resources": {
            "http://localhost:8080/nbextensions/google.colab/files.js": {
              "data": "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",
              "ok": true,
              "headers": [
                [
                  "content-type",
                  "application/javascript"
                ]
              ],
              "status": 200,
              "status_text": ""
            }
          },
          "base_uri": "https://localhost:8080/",
          "height": 180
        },
        "outputId": "c7017d97-de34-45c7-f239-3c2d94d84e53"
      },
      "outputs": [
        {
          "output_type": "stream",
          "name": "stdout",
          "text": [
            "Time Taken to download data : 1.51 minutes\n"
          ]
        }
      ],
      "source": [
        "from time import time\n",
        "start_time = time()\n",
        "\n",
        "from IPython.display import clear_output\n",
        "from google.colab import files\n",
        "files.upload()\n",
        "\n",
        "!pip install -q kaggle\n",
        "!mkdir -p ~/.kaggle\n",
        "!cp kaggle.json ~/.kaggle/\n",
        "!ls ~/.kaggle\n",
        "!chmod 600 /root/.kaggle/kaggle.json\n",
        "\n",
        "!mkdir ~/.data\n",
        "!kaggle kernels output prashanthacsq/fgvc9-images-256 -p /.data\n",
        "\n",
        "clear_output()\n",
        "\n",
        "print(f\"Time Taken to download data : {(time()-start_time)/60:.2f} minutes\")"
      ]
    },
    {
      "cell_type": "code",
      "source": [
        "!ls /.data"
      ],
      "metadata": {
        "colab": {
          "base_uri": "https://localhost:8080/"
        },
        "id": "oREGm3PFd7MZ",
        "outputId": "a9c03b6b-fb76-4641-8168-476474afbbd7"
      },
      "execution_count": null,
      "outputs": [
        {
          "output_type": "stream",
          "name": "stdout",
          "text": [
            "fgvc9-images-256.log  images_256.npy  labels.npy\n"
          ]
        }
      ]
    },
    {
      "cell_type": "markdown",
      "source": [
        "### **Library Imports**"
      ],
      "metadata": {
        "id": "TOOFDqrjurKt"
      }
    },
    {
      "cell_type": "code",
      "source": [
        "import os\n",
        "import re\n",
        "import torch\n",
        "import numpy as np\n",
        "import pandas as pd\n",
        "import matplotlib.pyplot as plt\n",
        "\n",
        "from torch import nn, optim\n",
        "from torch.utils.data import Dataset\n",
        "from torch.utils.data import DataLoader as DL\n",
        "from torchvision import models, transforms\n",
        "\n",
        "from sklearn.preprocessing import LabelEncoder\n",
        "from sklearn.model_selection import StratifiedKFold"
      ],
      "metadata": {
        "id": "27P89OuzutMx"
      },
      "execution_count": null,
      "outputs": []
    },
    {
      "cell_type": "markdown",
      "source": [
        "### **Utilities and Constants**"
      ],
      "metadata": {
        "id": "ayDKd9nGu_WM"
      }
    },
    {
      "cell_type": "code",
      "source": [
        "SEED = 42\n",
        "DEVICE = torch.device(\"cuda\" if torch.cuda.is_available() else \"cpu\")\n",
        "TRANSFORM = transforms.Compose([transforms.ToTensor(),\n",
        "                                transforms.Normalize([0.37250, 0.37591, 0.37537],\n",
        "                                                     [0.20316, 0.21171, 0.21160]),\n",
        "                                ])\n",
        "\n",
        "\n",
        "SAVE_PATH = \"/content/saves\"\n",
        "if not os.path.exists(SAVE_PATH):\n",
        "    os.makedirs(SAVE_PATH)"
      ],
      "metadata": {
        "id": "qCyu4W798eiY"
      },
      "execution_count": null,
      "outputs": []
    },
    {
      "cell_type": "code",
      "source": [
        "def breaker(num: int=50, char: str=\"*\") -> None:\n",
        "    print(\"\\n\" + num*char + \"\\n\")\n",
        "\n",
        "\n",
        "def show_graphs(L: list, A: list) -> None:\n",
        "    TL, VL, TA, VA = [], [], [], []\n",
        "    for i in range(len(L)):\n",
        "        TL.append(L[i][\"train\"])\n",
        "        VL.append(L[i][\"valid\"])\n",
        "        TA.append(A[i][\"train\"])\n",
        "        VA.append(A[i][\"valid\"])\n",
        "    x_Axis = np.arange(1, len(TL) + 1)\n",
        "    plt.figure(figsize=(8, 6))\n",
        "    plt.subplot(1, 2, 1)\n",
        "    plt.plot(x_Axis, TL, \"r\", label=\"Train\")\n",
        "    plt.plot(x_Axis, VL, \"b\", label=\"Valid\")\n",
        "    plt.legend()\n",
        "    plt.grid()\n",
        "    plt.title(\"Loss Graph\")\n",
        "    plt.subplot(1, 2, 2)\n",
        "    plt.plot(x_Axis, TA, \"r\", label=\"Train\")\n",
        "    plt.plot(x_Axis, VA, \"b\", label=\"Valid\")\n",
        "    plt.legend()\n",
        "    plt.grid()\n",
        "    plt.title(\"Accuracy Graph\")\n",
        "    plt.show()"
      ],
      "metadata": {
        "id": "949la0RZeo_Z"
      },
      "execution_count": null,
      "outputs": []
    },
    {
      "cell_type": "markdown",
      "source": [
        "### **Configuration**"
      ],
      "metadata": {
        "id": "wUr6F2MRvC16"
      }
    },
    {
      "cell_type": "code",
      "source": [
        "class CFG(object):\n",
        "    def __init__(self, \n",
        "                 seed: int = 42,\n",
        "                 n_splits: int = 5,\n",
        "                 batch_size: int = 16,\n",
        "                 epochs: int = 25,\n",
        "                 early_stopping: int = 5,\n",
        "                 lr: float = 1e-4,\n",
        "                 wd: float = 0.0,\n",
        "                 max_lr: float = 1e-3,\n",
        "                 pct_start: float = 0.2,\n",
        "                 steps_per_epoch: int = 100,\n",
        "                 div_factor: int = 1e3, \n",
        "                 final_div_factor: float = 1e3,\n",
        "                 ):\n",
        "        \n",
        "        self.seed = seed\n",
        "        self.n_splits = n_splits\n",
        "        self.batch_size = batch_size\n",
        "        self.epochs = epochs\n",
        "        self.early_stopping = early_stopping\n",
        "        self.lr = lr\n",
        "        self.wd = wd\n",
        "        self.max_lr = max_lr\n",
        "        self.pct_start = pct_start\n",
        "        self.steps_per_epoch = steps_per_epoch\n",
        "        self.div_factor = div_factor\n",
        "        self.final_div_factor = final_div_factor\n",
        "    \n",
        "cfg = CFG(seed=SEED)"
      ],
      "metadata": {
        "id": "A-R7w0tcu-1z"
      },
      "execution_count": null,
      "outputs": []
    },
    {
      "cell_type": "markdown",
      "source": [
        "### **Dataset Template**"
      ],
      "metadata": {
        "id": "-7ods3fduuL1"
      }
    },
    {
      "cell_type": "code",
      "source": [
        "class DS(Dataset):\n",
        "    def __init__(self, images: np.ndarray, labels: np.ndarray = None, transform=None):\n",
        "        self.images = images\n",
        "        self.labels = labels\n",
        "        self.transform = transform\n",
        "    \n",
        "    def __len__(self):\n",
        "        return self.images.shape[0]\n",
        "    \n",
        "    def __getitem__(self, idx):\n",
        "        if self.labels is not None:\n",
        "            return self.transform(self.images[idx]), torch.LongTensor(self.labels[idx])\n",
        "        else:\n",
        "            return self.transform(self.images[idx])"
      ],
      "metadata": {
        "id": "YJsiPr6MuwN1"
      },
      "execution_count": null,
      "outputs": []
    },
    {
      "cell_type": "markdown",
      "source": [
        "### **Model**"
      ],
      "metadata": {
        "id": "G0qqqUyNuxRh"
      }
    },
    {
      "cell_type": "code",
      "source": [
        "class MyResnet(nn.Module):\n",
        "    def __init__(self):\n",
        "        super(MyResnet, self).__init__()\n",
        "\n",
        "        self.model = models.resnet50(pretrained=True, progress=True)\n",
        "        self.model.fc = nn.Linear(in_features=self.model.fc.in_features, out_features=100)\n",
        "\n",
        "    def forward(self, x):\n",
        "        return nn.LogSoftmax(dim=1)(self.model(x))"
      ],
      "metadata": {
        "id": "uQSUzCF3uwxD"
      },
      "execution_count": null,
      "outputs": []
    },
    {
      "cell_type": "markdown",
      "source": [
        "### **Fit and Predict Helper**"
      ],
      "metadata": {
        "id": "dkPYM6vJuzjT"
      }
    },
    {
      "cell_type": "code",
      "source": [
        "def fit(model=None, \n",
        "        optimizer=None, \n",
        "        scheduler=None, \n",
        "        epochs=None, \n",
        "        early_stopping_patience=None, \n",
        "        dataloaders=None, \n",
        "        fold=None, \n",
        "        verbose=False) -> tuple:\n",
        "    \n",
        "    def get_accuracy(y_pred, y_true):\n",
        "        y_pred = torch.argmax(y_pred, dim=1)\n",
        "        return torch.count_nonzero(y_pred == y_true).item() / len(y_pred)\n",
        "    \n",
        "    if verbose:\n",
        "        breaker()\n",
        "        if fold: print(f\"Training Fold {fold}...\")\n",
        "        else: print(\"Training ...\")\n",
        "        breaker()\n",
        "        \n",
        "    bestLoss, bestAccs = {\"train\" : np.inf, \"valid\" : np.inf}, {\"train\" : 0.0, \"valid\" : 0.0}\n",
        "    Losses, Accuracies, LRs = [], [], []\n",
        "    if fold: name = f\"state_fold_{fold}.pt\"\n",
        "    else: name = \"state.pt\"\n",
        "\n",
        "    start_time = time()\n",
        "    for e in range(epochs):\n",
        "        e_st = time()\n",
        "        epochLoss, epochAccs = {\"train\" : 0.0, \"valid\" : 0.0}, {\"train\" : 0.0, \"valid\" : 0.0}\n",
        "\n",
        "        for phase in [\"train\", \"valid\"]:\n",
        "            if phase == \"train\":\n",
        "                model.train()\n",
        "            else:\n",
        "                model.eval()\n",
        "            \n",
        "            lossPerPass, accsPerPass = [], []\n",
        "\n",
        "            for X, y in dataloaders[phase]:\n",
        "                X, y = X.to(DEVICE), y.to(DEVICE).view(-1)\n",
        "\n",
        "                optimizer.zero_grad()\n",
        "                with torch.set_grad_enabled(phase == \"train\"):\n",
        "                    output = model(X)\n",
        "                    loss = torch.nn.NLLLoss()(output, y)\n",
        "                    if phase == \"train\":\n",
        "                        loss.backward()\n",
        "                        optimizer.step()\n",
        "                        if scheduler: scheduler.step()\n",
        "                lossPerPass.append(loss.item())\n",
        "                accsPerPass.append(get_accuracy(output, y))\n",
        "            epochLoss[phase] = np.mean(np.array(lossPerPass))\n",
        "            epochAccs[phase] = np.mean(np.array(accsPerPass))\n",
        "        LRs.append(scheduler.get_last_lr())\n",
        "        Losses.append(epochLoss)\n",
        "        Accuracies.append(epochAccs)\n",
        "        \n",
        "        if early_stopping_patience:\n",
        "            if epochLoss[\"valid\"] < bestLoss[\"valid\"]:\n",
        "                bestLoss = epochLoss\n",
        "                BLE = e + 1\n",
        "                torch.save({\"model_state_dict\"     : model.state_dict(),\n",
        "                            \"optim_state_dict\"     : optimizer.state_dict(),\n",
        "                            \"scheduler_state_dict\" : scheduler.state_dict()},\n",
        "                           os.path.join(SAVE_PATH, name))\n",
        "                early_stopping_step = 0\n",
        "            else:\n",
        "                early_stopping_step += 1\n",
        "                if early_stopping_step > early_stopping_patience:\n",
        "                    print(\"\\nEarly Stopping at Epoch {}\".format(e + 1))\n",
        "                    break\n",
        "        \n",
        "        if epochLoss[\"valid\"] < bestLoss[\"valid\"]:\n",
        "            bestLoss = epochLoss\n",
        "            BLE = e + 1\n",
        "            torch.save({\"model_state_dict\"     : model.state_dict(),\n",
        "                        \"optim_state_dict\"     : optimizer.state_dict(),\n",
        "                        \"scheduler_state_dict\" : scheduler.state_dict()},\n",
        "                        os.path.join(SAVE_PATH, name))\n",
        "        \n",
        "        if epochAccs[\"valid\"] > bestAccs[\"valid\"]:\n",
        "            bestAccs = epochAccs\n",
        "            BAE = e + 1\n",
        "        \n",
        "        if verbose:\n",
        "            print(\"Epoch: {} | Train Loss: {:.5f} | Valid Loss: {:.5f} |\\\n",
        "Train Accs: {:.5f} | Valid Accs: {:.5f} | Time: {:.2f} seconds\".format(e+1, \n",
        "                                                                       epochLoss[\"train\"], epochLoss[\"valid\"], \n",
        "                                                                       epochAccs[\"train\"], epochAccs[\"valid\"], \n",
        "                                                                       time()-e_st))\n",
        "\n",
        "    if verbose:                                           \n",
        "        breaker()\n",
        "        print(f\"Best Validation Loss at Epoch {BLE}\")\n",
        "        breaker()\n",
        "        print(f\"Best Validation Accs at Epoch {BAE}\")\n",
        "        breaker()\n",
        "        print(\"Time Taken [{} Epochs] : {:.2f} minutes\".format(len(Losses), (time()-start_time)/60))\n",
        "    \n",
        "    return Losses, Accuracies, LRs, BLE, BAE, name\n",
        "\n",
        "\n",
        "# def predict(model=None, dataloader=None, path=None) -> np.ndarray:\n",
        "#     model.load_state_dict(torch.load(path, map_location=DEVICE)[\"model_state_dict\"])\n",
        "#     model.to(DEVICE)    \n",
        "#     model.eval()\n",
        "    \n",
        "#     y_pred = torch.zeros(1, 1).to(DEVICE)\n",
        "    \n",
        "#     for X in dataloader:\n",
        "#         X = X.to(DEVICE)\n",
        "#         with torch.no_grad():\n",
        "#             output = torch.argmax(torch.exp(model(X)), dim=1)\n",
        "#         y_pred = torch.cat((y_pred, output.view(-1, 1)), dim=0)\n",
        "    \n",
        "#     return y_pred[1:].detach().cpu().numpy()"
      ],
      "metadata": {
        "id": "7UQ8SB6BuzPZ"
      },
      "execution_count": null,
      "outputs": []
    },
    {
      "cell_type": "markdown",
      "source": [
        "### **Train**"
      ],
      "metadata": {
        "id": "ETCO3Q4Qu7TG"
      }
    },
    {
      "cell_type": "code",
      "source": [
        "images = np.load(\"/.data/images_256.npy\")\n",
        "labels = np.load(\"/.data/labels.npy\")"
      ],
      "metadata": {
        "id": "cCc0FBiqdQw9"
      },
      "execution_count": null,
      "outputs": []
    },
    {
      "cell_type": "code",
      "source": [
        "for tr_idx, va_idx in StratifiedKFold(n_splits=cfg.n_splits, random_state=SEED, shuffle=True).split(images, labels):\n",
        "    break\n",
        "\n",
        "tr_images, va_images, tr_labels, va_labels = images[tr_idx], images[va_idx], labels[tr_idx], labels[va_idx]\n",
        "\n",
        "tr_data_setup = DS(tr_images, tr_labels.reshape(-1, 1), TRANSFORM)\n",
        "va_data_setup = DS(va_images, va_labels.reshape(-1, 1), TRANSFORM)\n",
        "\n",
        "dataloaders = {\n",
        "    \"train\" : DL(tr_data_setup, batch_size=cfg.batch_size, shuffle=True, generator=torch.manual_seed(cfg.seed)),\n",
        "    \"valid\" : DL(va_data_setup, batch_size=cfg.batch_size, shuffle=False),\n",
        "}\n",
        "\n",
        "cfg = CFG(epochs=50, steps_per_epoch=len(dataloaders[\"train\"]))\n",
        "\n",
        "torch.manual_seed(SEED)\n",
        "model = MyResnet().to(DEVICE)\n",
        "optimizer = optim.Adam([p for p in model.parameters() if p.requires_grad], lr=cfg.lr, weight_decay=cfg.wd)\n",
        "scheduler = optim.lr_scheduler.OneCycleLR(optimizer=optimizer, \n",
        "                                          max_lr=cfg.max_lr, \n",
        "                                          epochs=cfg.epochs, \n",
        "                                          steps_per_epoch=cfg.steps_per_epoch,\n",
        "                                          pct_start=cfg.pct_start, \n",
        "                                          div_factor=cfg.div_factor, \n",
        "                                          final_div_factor=cfg.final_div_factor)\n",
        "\n",
        "L, A, LRs, BLE, BAE, name = fit(model=model, \n",
        "                                optimizer=optimizer, \n",
        "                                scheduler=scheduler, \n",
        "                                epochs=cfg.epochs, \n",
        "                                early_stopping_patience=cfg.early_stopping, \n",
        "                                dataloaders=dataloaders,  \n",
        "                                verbose=True)\n",
        "\n",
        "breaker()\n",
        "show_graphs(L, A)"
      ],
      "metadata": {
        "id": "HE-f1Djku8lc",
        "colab": {
          "base_uri": "https://localhost:8080/",
          "height": 1000
        },
        "outputId": "ade2b685-697e-4d30-eb10-1e20dc11acc4"
      },
      "execution_count": null,
      "outputs": [
        {
          "output_type": "stream",
          "name": "stdout",
          "text": [
            "\n",
            "**************************************************\n",
            "\n",
            "Training ...\n",
            "\n",
            "**************************************************\n",
            "\n",
            "Epoch: 1 | Train Loss: 4.38109 | Valid Loss: 3.42175 |Train Accs: 0.06084 | Valid Accs: 0.21669 | Time: 176.79 seconds\n",
            "Epoch: 2 | Train Loss: 2.40167 | Valid Loss: 1.16425 |Train Accs: 0.41843 | Valid Accs: 0.67513 | Time: 176.45 seconds\n",
            "Epoch: 3 | Train Loss: 1.21918 | Valid Loss: 1.27539 |Train Accs: 0.65681 | Valid Accs: 0.62044 | Time: 175.97 seconds\n",
            "Epoch: 4 | Train Loss: 1.08504 | Valid Loss: 2.20963 |Train Accs: 0.67610 | Valid Accs: 0.47588 | Time: 175.81 seconds\n",
            "Epoch: 5 | Train Loss: 1.06759 | Valid Loss: 1.40417 |Train Accs: 0.68202 | Valid Accs: 0.60560 | Time: 176.31 seconds\n",
            "Epoch: 6 | Train Loss: 1.02466 | Valid Loss: 2.12617 |Train Accs: 0.69511 | Valid Accs: 0.51410 | Time: 177.17 seconds\n",
            "Epoch: 7 | Train Loss: 0.90678 | Valid Loss: 1.15789 |Train Accs: 0.72787 | Valid Accs: 0.66428 | Time: 176.86 seconds\n",
            "Epoch: 8 | Train Loss: 0.81797 | Valid Loss: 2.25085 |Train Accs: 0.75151 | Valid Accs: 0.46310 | Time: 176.16 seconds\n",
            "Epoch: 9 | Train Loss: 0.71281 | Valid Loss: 2.33455 |Train Accs: 0.78135 | Valid Accs: 0.51500 | Time: 176.42 seconds\n",
            "Epoch: 10 | Train Loss: 0.59636 | Valid Loss: 1.63610 |Train Accs: 0.81788 | Valid Accs: 0.59931 | Time: 176.58 seconds\n",
            "Epoch: 11 | Train Loss: 0.50048 | Valid Loss: 5.34840 |Train Accs: 0.84267 | Valid Accs: 0.30768 | Time: 176.37 seconds\n",
            "Epoch: 12 | Train Loss: 0.41121 | Valid Loss: 0.97934 |Train Accs: 0.86733 | Valid Accs: 0.72700 | Time: 176.84 seconds\n",
            "Epoch: 13 | Train Loss: 0.35298 | Valid Loss: 1.33864 |Train Accs: 0.88662 | Valid Accs: 0.66887 | Time: 177.03 seconds\n",
            "Epoch: 14 | Train Loss: 0.31691 | Valid Loss: 0.84847 |Train Accs: 0.90057 | Valid Accs: 0.76506 | Time: 178.24 seconds\n",
            "Epoch: 15 | Train Loss: 0.25768 | Valid Loss: 1.51313 |Train Accs: 0.91765 | Valid Accs: 0.65085 | Time: 176.62 seconds\n",
            "Epoch: 16 | Train Loss: 0.22362 | Valid Loss: 3.34001 |Train Accs: 0.92648 | Valid Accs: 0.45410 | Time: 175.98 seconds\n",
            "Epoch: 17 | Train Loss: 0.20133 | Valid Loss: 1.58824 |Train Accs: 0.93608 | Valid Accs: 0.65590 | Time: 176.31 seconds\n",
            "Epoch: 18 | Train Loss: 0.18539 | Valid Loss: 0.65598 |Train Accs: 0.94048 | Valid Accs: 0.81272 | Time: 178.61 seconds\n",
            "Epoch: 19 | Train Loss: 0.14499 | Valid Loss: 0.59795 |Train Accs: 0.95366 | Valid Accs: 0.83986 | Time: 177.10 seconds\n",
            "Epoch: 20 | Train Loss: 0.13546 | Valid Loss: 0.73980 |Train Accs: 0.95664 | Valid Accs: 0.78816 | Time: 176.23 seconds\n",
            "Epoch: 21 | Train Loss: 0.11716 | Valid Loss: 0.90929 |Train Accs: 0.96134 | Valid Accs: 0.78147 | Time: 177.06 seconds\n",
            "Epoch: 22 | Train Loss: 0.10743 | Valid Loss: 0.54751 |Train Accs: 0.96590 | Valid Accs: 0.85162 | Time: 178.22 seconds\n",
            "Epoch: 23 | Train Loss: 0.09531 | Valid Loss: 1.91486 |Train Accs: 0.96900 | Valid Accs: 0.64459 | Time: 177.13 seconds\n",
            "Epoch: 24 | Train Loss: 0.07774 | Valid Loss: 0.96096 |Train Accs: 0.97491 | Valid Accs: 0.77752 | Time: 176.82 seconds\n",
            "Epoch: 25 | Train Loss: 0.07576 | Valid Loss: 0.32026 |Train Accs: 0.97511 | Valid Accs: 0.90872 | Time: 177.36 seconds\n",
            "Epoch: 26 | Train Loss: 0.05814 | Valid Loss: 1.50635 |Train Accs: 0.98176 | Valid Accs: 0.70542 | Time: 176.45 seconds\n",
            "Epoch: 27 | Train Loss: 0.04922 | Valid Loss: 0.31775 |Train Accs: 0.98390 | Valid Accs: 0.90850 | Time: 177.32 seconds\n",
            "Epoch: 28 | Train Loss: 0.04790 | Valid Loss: 0.37767 |Train Accs: 0.98395 | Valid Accs: 0.89433 | Time: 176.34 seconds\n",
            "Epoch: 29 | Train Loss: 0.04076 | Valid Loss: 0.57987 |Train Accs: 0.98682 | Valid Accs: 0.85965 | Time: 175.88 seconds\n",
            "Epoch: 30 | Train Loss: 0.03437 | Valid Loss: 0.85663 |Train Accs: 0.98885 | Valid Accs: 0.80142 | Time: 175.87 seconds\n",
            "Epoch: 31 | Train Loss: 0.02530 | Valid Loss: 1.00069 |Train Accs: 0.99077 | Valid Accs: 0.79451 | Time: 175.93 seconds\n",
            "Epoch: 32 | Train Loss: 0.02611 | Valid Loss: 0.28158 |Train Accs: 0.99175 | Valid Accs: 0.91974 | Time: 176.47 seconds\n",
            "Epoch: 33 | Train Loss: 0.02034 | Valid Loss: 0.32622 |Train Accs: 0.99341 | Valid Accs: 0.91075 | Time: 177.02 seconds\n",
            "Epoch: 34 | Train Loss: 0.02336 | Valid Loss: 0.22355 |Train Accs: 0.99212 | Valid Accs: 0.93885 | Time: 176.70 seconds\n",
            "Epoch: 35 | Train Loss: 0.00949 | Valid Loss: 0.27274 |Train Accs: 0.99696 | Valid Accs: 0.92401 | Time: 175.70 seconds\n",
            "Epoch: 36 | Train Loss: 0.00919 | Valid Loss: 0.22616 |Train Accs: 0.99707 | Valid Accs: 0.93345 | Time: 175.26 seconds\n",
            "Epoch: 37 | Train Loss: 0.00958 | Valid Loss: 0.19054 |Train Accs: 0.99679 | Valid Accs: 0.94514 | Time: 176.78 seconds\n",
            "Epoch: 38 | Train Loss: 0.00714 | Valid Loss: 0.17174 |Train Accs: 0.99747 | Valid Accs: 0.94379 | Time: 176.75 seconds\n",
            "Epoch: 39 | Train Loss: 0.00442 | Valid Loss: 0.16733 |Train Accs: 0.99831 | Valid Accs: 0.95099 | Time: 176.02 seconds\n",
            "Epoch: 40 | Train Loss: 0.00433 | Valid Loss: 0.17969 |Train Accs: 0.99854 | Valid Accs: 0.94987 | Time: 175.38 seconds\n",
            "Epoch: 41 | Train Loss: 0.00420 | Valid Loss: 0.18573 |Train Accs: 0.99837 | Valid Accs: 0.94852 | Time: 175.40 seconds\n",
            "Epoch: 42 | Train Loss: 0.00383 | Valid Loss: 0.14763 |Train Accs: 0.99854 | Valid Accs: 0.95638 | Time: 176.02 seconds\n",
            "Epoch: 43 | Train Loss: 0.00256 | Valid Loss: 0.13788 |Train Accs: 0.99887 | Valid Accs: 0.95818 | Time: 176.73 seconds\n",
            "Epoch: 44 | Train Loss: 0.00224 | Valid Loss: 0.14149 |Train Accs: 0.99916 | Valid Accs: 0.95998 | Time: 176.16 seconds\n",
            "Epoch: 45 | Train Loss: 0.00197 | Valid Loss: 0.13183 |Train Accs: 0.99921 | Valid Accs: 0.95998 | Time: 176.34 seconds\n",
            "Epoch: 46 | Train Loss: 0.00196 | Valid Loss: 0.13141 |Train Accs: 0.99916 | Valid Accs: 0.95998 | Time: 177.16 seconds\n",
            "Epoch: 47 | Train Loss: 0.00198 | Valid Loss: 0.12353 |Train Accs: 0.99916 | Valid Accs: 0.96380 | Time: 176.47 seconds\n",
            "Epoch: 48 | Train Loss: 0.00188 | Valid Loss: 0.11896 |Train Accs: 0.99921 | Valid Accs: 0.96380 | Time: 177.93 seconds\n",
            "Epoch: 49 | Train Loss: 0.00173 | Valid Loss: 0.11704 |Train Accs: 0.99927 | Valid Accs: 0.96313 | Time: 177.52 seconds\n",
            "Epoch: 50 | Train Loss: 0.00171 | Valid Loss: 0.12285 |Train Accs: 0.99921 | Valid Accs: 0.96290 | Time: 176.85 seconds\n",
            "\n",
            "**************************************************\n",
            "\n",
            "Best Validation Loss at Epoch 49\n",
            "\n",
            "**************************************************\n",
            "\n",
            "Best Validation Accs at Epoch 47\n",
            "\n",
            "**************************************************\n",
            "\n",
            "Time Taken [50 Epochs] : 147.18 minutes\n",
            "\n",
            "**************************************************\n",
            "\n"
          ]
        },
        {
          "output_type": "display_data",
          "data": {
            "text/plain": [
              "<Figure size 576x432 with 2 Axes>"
            ],
            "image/png": "[encoded data removed]"
          },
          "metadata": {
            "needs_background": "light"
          }
        }
      ]
    },
    {
      "cell_type": "code",
      "source": [
        "# from google.colab import drive\n",
        "# drive.mount(\"/content/gdrive\")\n",
        "\n",
        "!cp \"/content/saves/state.pt\" \"/content/gdrive/My Drive/Models/fgvc9/resnet50-state.pt\""
      ],
      "metadata": {
        "id": "a4vuWYiXDsiT"
      },
      "execution_count": null,
      "outputs": []
    }
  ]
}