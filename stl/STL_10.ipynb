{
  "nbformat": 4,
  "nbformat_minor": 0,
  "metadata": {
    "colab": {
      "name": "STL-10",
      "provenance": [],
      "collapsed_sections": [],
      "authorship_tag": "ABX9TyMxYsBU7NM1huffDFqrBAkb",
      "include_colab_link": true
    },
    "kernelspec": {
      "name": "python3",
      "display_name": "Python 3"
    },
    "language_info": {
      "name": "python"
    },
    "accelerator": "GPU",
    "widgets": {
      "application/vnd.jupyter.widget-state+json": {
        "1e50d6707e214bd0868bc0ac6541c721": {
          "model_module": "@jupyter-widgets/controls",
          "model_name": "HBoxModel",
          "model_module_version": "1.5.0",
          "state": {
            "_dom_classes": [],
            "_model_module": "@jupyter-widgets/controls",
            "_model_module_version": "1.5.0",
            "_model_name": "HBoxModel",
            "_view_count": null,
            "_view_module": "@jupyter-widgets/controls",
            "_view_module_version": "1.5.0",
            "_view_name": "HBoxView",
            "box_style": "",
            "children": [
              "IPY_MODEL_e3e6768dc20a4caa83a36d7aa84656e0",
              "IPY_MODEL_a69903af790741ee9da8f1a143d3e706",
              "IPY_MODEL_8ac27cf56c2947f8aff20829e129e29d"
            ],
            "layout": "IPY_MODEL_04ab56406e794b6b8643a40563def976"
          }
        },
        "e3e6768dc20a4caa83a36d7aa84656e0": {
          "model_module": "@jupyter-widgets/controls",
          "model_name": "HTMLModel",
          "model_module_version": "1.5.0",
          "state": {
            "_dom_classes": [],
            "_model_module": "@jupyter-widgets/controls",
            "_model_module_version": "1.5.0",
            "_model_name": "HTMLModel",
            "_view_count": null,
            "_view_module": "@jupyter-widgets/controls",
            "_view_module_version": "1.5.0",
            "_view_name": "HTMLView",
            "description": "",
            "description_tooltip": null,
            "layout": "IPY_MODEL_55e7379e016c457fa9872fb53bb2f713",
            "placeholder": "​",
            "style": "IPY_MODEL_8d59ec88acd5416caf11a4977a0466a2",
            "value": ""
          }
        },
        "a69903af790741ee9da8f1a143d3e706": {
          "model_module": "@jupyter-widgets/controls",
          "model_name": "FloatProgressModel",
          "model_module_version": "1.5.0",
          "state": {
            "_dom_classes": [],
            "_model_module": "@jupyter-widgets/controls",
            "_model_module_version": "1.5.0",
            "_model_name": "FloatProgressModel",
            "_view_count": null,
            "_view_module": "@jupyter-widgets/controls",
            "_view_module_version": "1.5.0",
            "_view_name": "ProgressView",
            "bar_style": "success",
            "description": "",
            "description_tooltip": null,
            "layout": "IPY_MODEL_f938896659a442b6b74e3e2b4df08dfb",
            "max": 2640397119,
            "min": 0,
            "orientation": "horizontal",
            "style": "IPY_MODEL_a6eca43ddf6941aab626cee7cdf9c233",
            "value": 2640397119
          }
        },
        "8ac27cf56c2947f8aff20829e129e29d": {
          "model_module": "@jupyter-widgets/controls",
          "model_name": "HTMLModel",
          "model_module_version": "1.5.0",
          "state": {
            "_dom_classes": [],
            "_model_module": "@jupyter-widgets/controls",
            "_model_module_version": "1.5.0",
            "_model_name": "HTMLModel",
            "_view_count": null,
            "_view_module": "@jupyter-widgets/controls",
            "_view_module_version": "1.5.0",
            "_view_name": "HTMLView",
            "description": "",
            "description_tooltip": null,
            "layout": "IPY_MODEL_a9d1655a0aa34d6f8c928405b13a21cf",
            "placeholder": "​",
            "style": "IPY_MODEL_e198a821e8444b69b66d79a17242398b",
            "value": " 2640397312/? [01:11&lt;00:00, 54003531.63it/s]"
          }
        },
        "04ab56406e794b6b8643a40563def976": {
          "model_module": "@jupyter-widgets/base",
          "model_name": "LayoutModel",
          "model_module_version": "1.2.0",
          "state": {
            "_model_module": "@jupyter-widgets/base",
            "_model_module_version": "1.2.0",
            "_model_name": "LayoutModel",
            "_view_count": null,
            "_view_module": "@jupyter-widgets/base",
            "_view_module_version": "1.2.0",
            "_view_name": "LayoutView",
            "align_content": null,
            "align_items": null,
            "align_self": null,
            "border": null,
            "bottom": null,
            "display": null,
            "flex": null,
            "flex_flow": null,
            "grid_area": null,
            "grid_auto_columns": null,
            "grid_auto_flow": null,
            "grid_auto_rows": null,
            "grid_column": null,
            "grid_gap": null,
            "grid_row": null,
            "grid_template_areas": null,
            "grid_template_columns": null,
            "grid_template_rows": null,
            "height": null,
            "justify_content": null,
            "justify_items": null,
            "left": null,
            "margin": null,
            "max_height": null,
            "max_width": null,
            "min_height": null,
            "min_width": null,
            "object_fit": null,
            "object_position": null,
            "order": null,
            "overflow": null,
            "overflow_x": null,
            "overflow_y": null,
            "padding": null,
            "right": null,
            "top": null,
            "visibility": null,
            "width": null
          }
        },
        "55e7379e016c457fa9872fb53bb2f713": {
          "model_module": "@jupyter-widgets/base",
          "model_name": "LayoutModel",
          "model_module_version": "1.2.0",
          "state": {
            "_model_module": "@jupyter-widgets/base",
            "_model_module_version": "1.2.0",
            "_model_name": "LayoutModel",
            "_view_count": null,
            "_view_module": "@jupyter-widgets/base",
            "_view_module_version": "1.2.0",
            "_view_name": "LayoutView",
            "align_content": null,
            "align_items": null,
            "align_self": null,
            "border": null,
            "bottom": null,
            "display": null,
            "flex": null,
            "flex_flow": null,
            "grid_area": null,
            "grid_auto_columns": null,
            "grid_auto_flow": null,
            "grid_auto_rows": null,
            "grid_column": null,
            "grid_gap": null,
            "grid_row": null,
            "grid_template_areas": null,
            "grid_template_columns": null,
            "grid_template_rows": null,
            "height": null,
            "justify_content": null,
            "justify_items": null,
            "left": null,
            "margin": null,
            "max_height": null,
            "max_width": null,
            "min_height": null,
            "min_width": null,
            "object_fit": null,
            "object_position": null,
            "order": null,
            "overflow": null,
            "overflow_x": null,
            "overflow_y": null,
            "padding": null,
            "right": null,
            "top": null,
            "visibility": null,
            "width": null
          }
        },
        "8d59ec88acd5416caf11a4977a0466a2": {
          "model_module": "@jupyter-widgets/controls",
          "model_name": "DescriptionStyleModel",
          "model_module_version": "1.5.0",
          "state": {
            "_model_module": "@jupyter-widgets/controls",
            "_model_module_version": "1.5.0",
            "_model_name": "DescriptionStyleModel",
            "_view_count": null,
            "_view_module": "@jupyter-widgets/base",
            "_view_module_version": "1.2.0",
            "_view_name": "StyleView",
            "description_width": ""
          }
        },
        "f938896659a442b6b74e3e2b4df08dfb": {
          "model_module": "@jupyter-widgets/base",
          "model_name": "LayoutModel",
          "model_module_version": "1.2.0",
          "state": {
            "_model_module": "@jupyter-widgets/base",
            "_model_module_version": "1.2.0",
            "_model_name": "LayoutModel",
            "_view_count": null,
            "_view_module": "@jupyter-widgets/base",
            "_view_module_version": "1.2.0",
            "_view_name": "LayoutView",
            "align_content": null,
            "align_items": null,
            "align_self": null,
            "border": null,
            "bottom": null,
            "display": null,
            "flex": null,
            "flex_flow": null,
            "grid_area": null,
            "grid_auto_columns": null,
            "grid_auto_flow": null,
            "grid_auto_rows": null,
            "grid_column": null,
            "grid_gap": null,
            "grid_row": null,
            "grid_template_areas": null,
            "grid_template_columns": null,
            "grid_template_rows": null,
            "height": null,
            "justify_content": null,
            "justify_items": null,
            "left": null,
            "margin": null,
            "max_height": null,
            "max_width": null,
            "min_height": null,
            "min_width": null,
            "object_fit": null,
            "object_position": null,
            "order": null,
            "overflow": null,
            "overflow_x": null,
            "overflow_y": null,
            "padding": null,
            "right": null,
            "top": null,
            "visibility": null,
            "width": null
          }
        },
        "a6eca43ddf6941aab626cee7cdf9c233": {
          "model_module": "@jupyter-widgets/controls",
          "model_name": "ProgressStyleModel",
          "model_module_version": "1.5.0",
          "state": {
            "_model_module": "@jupyter-widgets/controls",
            "_model_module_version": "1.5.0",
            "_model_name": "ProgressStyleModel",
            "_view_count": null,
            "_view_module": "@jupyter-widgets/base",
            "_view_module_version": "1.2.0",
            "_view_name": "StyleView",
            "bar_color": null,
            "description_width": ""
          }
        },
        "a9d1655a0aa34d6f8c928405b13a21cf": {
          "model_module": "@jupyter-widgets/base",
          "model_name": "LayoutModel",
          "model_module_version": "1.2.0",
          "state": {
            "_model_module": "@jupyter-widgets/base",
            "_model_module_version": "1.2.0",
            "_model_name": "LayoutModel",
            "_view_count": null,
            "_view_module": "@jupyter-widgets/base",
            "_view_module_version": "1.2.0",
            "_view_name": "LayoutView",
            "align_content": null,
            "align_items": null,
            "align_self": null,
            "border": null,
            "bottom": null,
            "display": null,
            "flex": null,
            "flex_flow": null,
            "grid_area": null,
            "grid_auto_columns": null,
            "grid_auto_flow": null,
            "grid_auto_rows": null,
            "grid_column": null,
            "grid_gap": null,
            "grid_row": null,
            "grid_template_areas": null,
            "grid_template_columns": null,
            "grid_template_rows": null,
            "height": null,
            "justify_content": null,
            "justify_items": null,
            "left": null,
            "margin": null,
            "max_height": null,
            "max_width": null,
            "min_height": null,
            "min_width": null,
            "object_fit": null,
            "object_position": null,
            "order": null,
            "overflow": null,
            "overflow_x": null,
            "overflow_y": null,
            "padding": null,
            "right": null,
            "top": null,
            "visibility": null,
            "width": null
          }
        },
        "e198a821e8444b69b66d79a17242398b": {
          "model_module": "@jupyter-widgets/controls",
          "model_name": "DescriptionStyleModel",
          "model_module_version": "1.5.0",
          "state": {
            "_model_module": "@jupyter-widgets/controls",
            "_model_module_version": "1.5.0",
            "_model_name": "DescriptionStyleModel",
            "_view_count": null,
            "_view_module": "@jupyter-widgets/base",
            "_view_module_version": "1.2.0",
            "_view_name": "StyleView",
            "description_width": ""
          }
        },
        "900f5b9e74074e48a110feddae011ae4": {
          "model_module": "@jupyter-widgets/controls",
          "model_name": "HBoxModel",
          "model_module_version": "1.5.0",
          "state": {
            "_dom_classes": [],
            "_model_module": "@jupyter-widgets/controls",
            "_model_module_version": "1.5.0",
            "_model_name": "HBoxModel",
            "_view_count": null,
            "_view_module": "@jupyter-widgets/controls",
            "_view_module_version": "1.5.0",
            "_view_name": "HBoxView",
            "box_style": "",
            "children": [
              "IPY_MODEL_d01f88132dc04eaaadcaff6f26f6e453",
              "IPY_MODEL_b9b75a7b2f6f41768498181bd11ab6a4",
              "IPY_MODEL_344cf893406f471aa8133d4b9017d67a"
            ],
            "layout": "IPY_MODEL_24e6f00aa2bd4f48a70288960588a2e2"
          }
        },
        "d01f88132dc04eaaadcaff6f26f6e453": {
          "model_module": "@jupyter-widgets/controls",
          "model_name": "HTMLModel",
          "model_module_version": "1.5.0",
          "state": {
            "_dom_classes": [],
            "_model_module": "@jupyter-widgets/controls",
            "_model_module_version": "1.5.0",
            "_model_name": "HTMLModel",
            "_view_count": null,
            "_view_module": "@jupyter-widgets/controls",
            "_view_module_version": "1.5.0",
            "_view_name": "HTMLView",
            "description": "",
            "description_tooltip": null,
            "layout": "IPY_MODEL_4da59855961f4e2a80c877d4353dbace",
            "placeholder": "​",
            "style": "IPY_MODEL_ed71527ed51740a5b018b2efce2c0560",
            "value": "100%"
          }
        },
        "b9b75a7b2f6f41768498181bd11ab6a4": {
          "model_module": "@jupyter-widgets/controls",
          "model_name": "FloatProgressModel",
          "model_module_version": "1.5.0",
          "state": {
            "_dom_classes": [],
            "_model_module": "@jupyter-widgets/controls",
            "_model_module_version": "1.5.0",
            "_model_name": "FloatProgressModel",
            "_view_count": null,
            "_view_module": "@jupyter-widgets/controls",
            "_view_module_version": "1.5.0",
            "_view_name": "ProgressView",
            "bar_style": "success",
            "description": "",
            "description_tooltip": null,
            "layout": "IPY_MODEL_04a0001e050b44f5bf561aaaa7ef3156",
            "max": 102530333,
            "min": 0,
            "orientation": "horizontal",
            "style": "IPY_MODEL_0fb7d4c0b6bd4186aabce2d7c76b783d",
            "value": 102530333
          }
        },
        "344cf893406f471aa8133d4b9017d67a": {
          "model_module": "@jupyter-widgets/controls",
          "model_name": "HTMLModel",
          "model_module_version": "1.5.0",
          "state": {
            "_dom_classes": [],
            "_model_module": "@jupyter-widgets/controls",
            "_model_module_version": "1.5.0",
            "_model_name": "HTMLModel",
            "_view_count": null,
            "_view_module": "@jupyter-widgets/controls",
            "_view_module_version": "1.5.0",
            "_view_name": "HTMLView",
            "description": "",
            "description_tooltip": null,
            "layout": "IPY_MODEL_bb1c6dd331b34a54ac98d30bb4946a7a",
            "placeholder": "​",
            "style": "IPY_MODEL_34bc003470be4731a03289dcce7de166",
            "value": " 97.8M/97.8M [00:00&lt;00:00, 117MB/s]"
          }
        },
        "24e6f00aa2bd4f48a70288960588a2e2": {
          "model_module": "@jupyter-widgets/base",
          "model_name": "LayoutModel",
          "model_module_version": "1.2.0",
          "state": {
            "_model_module": "@jupyter-widgets/base",
            "_model_module_version": "1.2.0",
            "_model_name": "LayoutModel",
            "_view_count": null,
            "_view_module": "@jupyter-widgets/base",
            "_view_module_version": "1.2.0",
            "_view_name": "LayoutView",
            "align_content": null,
            "align_items": null,
            "align_self": null,
            "border": null,
            "bottom": null,
            "display": null,
            "flex": null,
            "flex_flow": null,
            "grid_area": null,
            "grid_auto_columns": null,
            "grid_auto_flow": null,
            "grid_auto_rows": null,
            "grid_column": null,
            "grid_gap": null,
            "grid_row": null,
            "grid_template_areas": null,
            "grid_template_columns": null,
            "grid_template_rows": null,
            "height": null,
            "justify_content": null,
            "justify_items": null,
            "left": null,
            "margin": null,
            "max_height": null,
            "max_width": null,
            "min_height": null,
            "min_width": null,
            "object_fit": null,
            "object_position": null,
            "order": null,
            "overflow": null,
            "overflow_x": null,
            "overflow_y": null,
            "padding": null,
            "right": null,
            "top": null,
            "visibility": null,
            "width": null
          }
        },
        "4da59855961f4e2a80c877d4353dbace": {
          "model_module": "@jupyter-widgets/base",
          "model_name": "LayoutModel",
          "model_module_version": "1.2.0",
          "state": {
            "_model_module": "@jupyter-widgets/base",
            "_model_module_version": "1.2.0",
            "_model_name": "LayoutModel",
            "_view_count": null,
            "_view_module": "@jupyter-widgets/base",
            "_view_module_version": "1.2.0",
            "_view_name": "LayoutView",
            "align_content": null,
            "align_items": null,
            "align_self": null,
            "border": null,
            "bottom": null,
            "display": null,
            "flex": null,
            "flex_flow": null,
            "grid_area": null,
            "grid_auto_columns": null,
            "grid_auto_flow": null,
            "grid_auto_rows": null,
            "grid_column": null,
            "grid_gap": null,
            "grid_row": null,
            "grid_template_areas": null,
            "grid_template_columns": null,
            "grid_template_rows": null,
            "height": null,
            "justify_content": null,
            "justify_items": null,
            "left": null,
            "margin": null,
            "max_height": null,
            "max_width": null,
            "min_height": null,
            "min_width": null,
            "object_fit": null,
            "object_position": null,
            "order": null,
            "overflow": null,
            "overflow_x": null,
            "overflow_y": null,
            "padding": null,
            "right": null,
            "top": null,
            "visibility": null,
            "width": null
          }
        },
        "ed71527ed51740a5b018b2efce2c0560": {
          "model_module": "@jupyter-widgets/controls",
          "model_name": "DescriptionStyleModel",
          "model_module_version": "1.5.0",
          "state": {
            "_model_module": "@jupyter-widgets/controls",
            "_model_module_version": "1.5.0",
            "_model_name": "DescriptionStyleModel",
            "_view_count": null,
            "_view_module": "@jupyter-widgets/base",
            "_view_module_version": "1.2.0",
            "_view_name": "StyleView",
            "description_width": ""
          }
        },
        "04a0001e050b44f5bf561aaaa7ef3156": {
          "model_module": "@jupyter-widgets/base",
          "model_name": "LayoutModel",
          "model_module_version": "1.2.0",
          "state": {
            "_model_module": "@jupyter-widgets/base",
            "_model_module_version": "1.2.0",
            "_model_name": "LayoutModel",
            "_view_count": null,
            "_view_module": "@jupyter-widgets/base",
            "_view_module_version": "1.2.0",
            "_view_name": "LayoutView",
            "align_content": null,
            "align_items": null,
            "align_self": null,
            "border": null,
            "bottom": null,
            "display": null,
            "flex": null,
            "flex_flow": null,
            "grid_area": null,
            "grid_auto_columns": null,
            "grid_auto_flow": null,
            "grid_auto_rows": null,
            "grid_column": null,
            "grid_gap": null,
            "grid_row": null,
            "grid_template_areas": null,
            "grid_template_columns": null,
            "grid_template_rows": null,
            "height": null,
            "justify_content": null,
            "justify_items": null,
            "left": null,
            "margin": null,
            "max_height": null,
            "max_width": null,
            "min_height": null,
            "min_width": null,
            "object_fit": null,
            "object_position": null,
            "order": null,
            "overflow": null,
            "overflow_x": null,
            "overflow_y": null,
            "padding": null,
            "right": null,
            "top": null,
            "visibility": null,
            "width": null
          }
        },
        "0fb7d4c0b6bd4186aabce2d7c76b783d": {
          "model_module": "@jupyter-widgets/controls",
          "model_name": "ProgressStyleModel",
          "model_module_version": "1.5.0",
          "state": {
            "_model_module": "@jupyter-widgets/controls",
            "_model_module_version": "1.5.0",
            "_model_name": "ProgressStyleModel",
            "_view_count": null,
            "_view_module": "@jupyter-widgets/base",
            "_view_module_version": "1.2.0",
            "_view_name": "StyleView",
            "bar_color": null,
            "description_width": ""
          }
        },
        "bb1c6dd331b34a54ac98d30bb4946a7a": {
          "model_module": "@jupyter-widgets/base",
          "model_name": "LayoutModel",
          "model_module_version": "1.2.0",
          "state": {
            "_model_module": "@jupyter-widgets/base",
            "_model_module_version": "1.2.0",
            "_model_name": "LayoutModel",
            "_view_count": null,
            "_view_module": "@jupyter-widgets/base",
            "_view_module_version": "1.2.0",
            "_view_name": "LayoutView",
            "align_content": null,
            "align_items": null,
            "align_self": null,
            "border": null,
            "bottom": null,
            "display": null,
            "flex": null,
            "flex_flow": null,
            "grid_area": null,
            "grid_auto_columns": null,
            "grid_auto_flow": null,
            "grid_auto_rows": null,
            "grid_column": null,
            "grid_gap": null,
            "grid_row": null,
            "grid_template_areas": null,
            "grid_template_columns": null,
            "grid_template_rows": null,
            "height": null,
            "justify_content": null,
            "justify_items": null,
            "left": null,
            "margin": null,
            "max_height": null,
            "max_width": null,
            "min_height": null,
            "min_width": null,
            "object_fit": null,
            "object_position": null,
            "order": null,
            "overflow": null,
            "overflow_x": null,
            "overflow_y": null,
            "padding": null,
            "right": null,
            "top": null,
            "visibility": null,
            "width": null
          }
        },
        "34bc003470be4731a03289dcce7de166": {
          "model_module": "@jupyter-widgets/controls",
          "model_name": "DescriptionStyleModel",
          "model_module_version": "1.5.0",
          "state": {
            "_model_module": "@jupyter-widgets/controls",
            "_model_module_version": "1.5.0",
            "_model_name": "DescriptionStyleModel",
            "_view_count": null,
            "_view_module": "@jupyter-widgets/base",
            "_view_module_version": "1.2.0",
            "_view_name": "StyleView",
            "description_width": ""
          }
        }
      }
    }
  },
  "cells": [
    {
      "cell_type": "markdown",
      "metadata": {
        "id": "view-in-github",
        "colab_type": "text"
      },
      "source": [
        "<a href=\"https://colab.research.google.com/github/prashanth-acsq/Colab-Notebooks/blob/main/stl/STL_10.ipynb\" target=\"_parent\"><img src=\"https://colab.research.google.com/assets/colab-badge.svg\" alt=\"Open In Colab\"/></a>"
      ]
    },
    {
      "cell_type": "code",
      "execution_count": null,
      "metadata": {
        "id": "rKIanMfHVrWf"
      },
      "outputs": [],
      "source": [
        "# dataset = torchvision.datasets.STL10(\"/content/data\", \"unlabeled\", download=True)\n",
        "\n",
        "# train_X = np.fromfile(\"/content/data/stl10_binary/train_X.bin\", dtype=np.uint8)\n",
        "# train_X = train_X.reshape(-1, 96, 96, 3)\n",
        "# train_X.shape [0.43141, 0.43113, 0.43062]\n",
        "\n",
        "# test_X = np.fromfile(\"/content/data/stl10_binary/test_X.bin\", dtype=np.uint8)\n",
        "# test_X = test_X.reshape(-1, 96, 96, 3)\n",
        "# test_X.shape\n",
        "\n",
        "# un_X = np.fromfile(\"/content/data/stl10_binary/unlabeled_X.bin\", dtype=np.uint8)\n",
        "# un_X = un_X.reshape(-1, 96, 96, 3)\n",
        "# un_X.shape [0.41824, 0.41800, 0.41745]\n",
        "\n",
        "# tr = un_X[:80000]\n",
        "# va = un_X[80000:]\n",
        "\n",
        "# for tr_idx, va_idx in KFold(n_splits=5, shuffle=True, random_state=0).split(un_X): break\n",
        "\n",
        "# tr = un_X[tr_idx]\n",
        "# va = un_X[va_idx]"
      ]
    },
    {
      "cell_type": "markdown",
      "source": [
        "### **Library Imports**"
      ],
      "metadata": {
        "id": "EdRDBCepaK-f"
      }
    },
    {
      "cell_type": "code",
      "source": [
        "import os\n",
        "import re\n",
        "import torch\n",
        "import numpy as np\n",
        "import pandas as pd\n",
        "import matplotlib.pyplot as plt\n",
        "\n",
        "from time import time\n",
        "from torch import nn, optim\n",
        "from torch.utils.data import Dataset\n",
        "from torch.utils.data import DataLoader as DL\n",
        "from torchvision import models, transforms, datasets\n",
        "\n",
        "from sklearn.model_selection import StratifiedKFold\n",
        "from sklearn.preprocessing import LabelEncoder\n",
        "from sklearn.metrics import accuracy_score"
      ],
      "metadata": {
        "id": "Z1HjkMHpV7KV"
      },
      "execution_count": 1,
      "outputs": []
    },
    {
      "cell_type": "markdown",
      "source": [
        "### **Utilities and Constants**"
      ],
      "metadata": {
        "id": "kf3ugT1NaMzq"
      }
    },
    {
      "cell_type": "code",
      "source": [
        "SEED = 42\n",
        "SIZE = 96\n",
        "\n",
        "def breaker(num: int=50, char: str=\"*\") -> None:\n",
        "    print(\"\\n\" + num*char + \"\\n\")\n",
        "\n",
        "\n",
        "def show_loss_graphs(L: list) -> None:\n",
        "    TL, VL = [], []\n",
        "    for i in range(len(L)):\n",
        "        TL.append(L[i][\"train\"])\n",
        "        VL.append(L[i][\"valid\"])\n",
        "    x_Axis = np.arange(1, len(TL) + 1)\n",
        "    plt.figure(figsize=(8, 6))\n",
        "    plt.plot(x_Axis, TL, \"r\", label=\"Train\")\n",
        "    plt.plot(x_Axis, VL, \"b\", label=\"Valid\")\n",
        "    plt.legend()\n",
        "    plt.grid()\n",
        "    plt.title(\"Loss Graph\")\n",
        "    plt.show()\n",
        "\n",
        "\n",
        "def show_accuracy_graphs(A: list) -> None:\n",
        "    TA, VA = [], []\n",
        "    for i in range(len(L)):\n",
        "        TA.append(A[i][\"train\"])\n",
        "        VA.append(A[i][\"valid\"])\n",
        "    x_Axis = np.arange(1, len(TA) + 1)\n",
        "    plt.figure(figsize=(8, 6))\n",
        "    plt.plot(x_Axis, TA, \"r\", label=\"Train\")\n",
        "    plt.plot(x_Axis, VA, \"b\", label=\"Valid\")\n",
        "    plt.legend()\n",
        "    plt.grid()\n",
        "    plt.title(\"Accuracy Graph\")\n",
        "    plt.show()\n",
        "\n",
        "\n",
        "def show_lr_graph(LR: list) -> None:\n",
        "    x_Axis = [i+1 for i in range(len(LR))]\n",
        "    plt.figure(figsize=(8, 6))\n",
        "    plt.plot(x_Axis, LR, \"rx\")\n",
        "    plt.grid()\n",
        "    plt.show()"
      ],
      "metadata": {
        "id": "UE_AMEamWF8D"
      },
      "execution_count": 2,
      "outputs": []
    },
    {
      "cell_type": "code",
      "source": [
        "dataset = datasets.STL10(\"/content/data\", \"unlabeled\", download=True)\n",
        "\n",
        "train_X = np.fromfile(\"/content/data/stl10_binary/train_X.bin\", dtype=np.uint8)\n",
        "train_X = train_X.reshape(-1, 96, 96, 3)\n",
        "\n",
        "test_X = np.fromfile(\"/content/data/stl10_binary/test_X.bin\", dtype=np.uint8)\n",
        "test_X = test_X.reshape(-1, 96, 96, 3)\n",
        "\n",
        "train_y = np.fromfile(\"/content/data/stl10_binary/train_y.bin\", dtype=np.uint8)\n",
        "test_y  = np.fromfile(\"/content/data/stl10_binary/test_y.bin\", dtype=np.uint8)\n",
        "\n",
        "assert len(set(train_y)) == 10, \"train_y loaded incorrectly\"\n",
        "assert len(set(test_y)) == 10, \"test_y loaded incorrectly\"\n",
        "\n",
        "train_y -= 1\n",
        "test_y -= 1\n",
        "\n",
        "breaker()\n",
        "for i in range(3):\n",
        "    mean, std = 0.0, 0.0\n",
        "    for j in range(len(train_X)):\n",
        "        mean += train_X[j][:, :, i].mean()\n",
        "        std += train_X[j][:, :, i].std()\n",
        "    \n",
        "    if i == 0:\n",
        "        r_mean = mean / len(train_X) / 255\n",
        "        r_std  = std / len(train_X) / 255\n",
        "        print(f\"Red Channel Mean   {SIZE} : {r_mean:.5f}\")\n",
        "        print(f\"Red Channel Std    {SIZE} : {r_std:.5f}\")\n",
        "\n",
        "    if i == 1:\n",
        "        g_mean = mean / len(train_X) / 255\n",
        "        g_std  = std / len(train_X) / 255\n",
        "        print(f\"\\nGreen Channel Mean {SIZE} : {g_mean:.5f}\")\n",
        "        print(f\"Green Channel Std  {SIZE} : {g_std:.5f}\")\n",
        "\n",
        "    if i == 2:\n",
        "        b_mean = mean / len(train_X) / 255\n",
        "        b_std  = std / len(train_X) / 255\n",
        "        print(f\"\\nBlue Channel Mean  {SIZE} : {b_mean:.5f}\")\n",
        "        print(f\"Blue Channel Std   {SIZE} : {b_std:.5f}\")\n",
        "breaker()"
      ],
      "metadata": {
        "colab": {
          "base_uri": "https://localhost:8080/",
          "height": 327,
          "referenced_widgets": [
            "1e50d6707e214bd0868bc0ac6541c721",
            "e3e6768dc20a4caa83a36d7aa84656e0",
            "a69903af790741ee9da8f1a143d3e706",
            "8ac27cf56c2947f8aff20829e129e29d",
            "04ab56406e794b6b8643a40563def976",
            "55e7379e016c457fa9872fb53bb2f713",
            "8d59ec88acd5416caf11a4977a0466a2",
            "f938896659a442b6b74e3e2b4df08dfb",
            "a6eca43ddf6941aab626cee7cdf9c233",
            "a9d1655a0aa34d6f8c928405b13a21cf",
            "e198a821e8444b69b66d79a17242398b"
          ]
        },
        "id": "-h7TPr9fVAvi",
        "outputId": "d69069f9-e1e3-480e-f72a-458808d5fb80"
      },
      "execution_count": 3,
      "outputs": [
        {
          "output_type": "stream",
          "name": "stdout",
          "text": [
            "Downloading http://ai.stanford.edu/~acoates/stl10/stl10_binary.tar.gz to /content/data/stl10_binary.tar.gz\n"
          ]
        },
        {
          "output_type": "display_data",
          "data": {
            "text/plain": [
              "  0%|          | 0/2640397119 [00:00<?, ?it/s]"
            ],
            "application/vnd.jupyter.widget-view+json": {
              "version_major": 2,
              "version_minor": 0,
              "model_id": "1e50d6707e214bd0868bc0ac6541c721"
            }
          },
          "metadata": {}
        },
        {
          "output_type": "stream",
          "name": "stdout",
          "text": [
            "Extracting /content/data/stl10_binary.tar.gz to /content/data\n",
            "\n",
            "**************************************************\n",
            "\n",
            "Red Channel Mean   96 : 0.43142\n",
            "Red Channel Std    96 : 0.23119\n",
            "\n",
            "Green Channel Mean 96 : 0.43113\n",
            "Green Channel Std  96 : 0.23100\n",
            "\n",
            "Blue Channel Mean  96 : 0.43062\n",
            "Blue Channel Std   96 : 0.23087\n",
            "\n",
            "**************************************************\n",
            "\n"
          ]
        }
      ]
    },
    {
      "cell_type": "markdown",
      "source": [
        "### **No Unlabelled Data**"
      ],
      "metadata": {
        "id": "v1VulbzNa2NL"
      }
    },
    {
      "cell_type": "markdown",
      "source": [
        "**Configuration**"
      ],
      "metadata": {
        "id": "c9HsrmgFbJPb"
      }
    },
    {
      "cell_type": "code",
      "source": [
        "class ClassifierCFG(object):\n",
        "    def __init__(self, \n",
        "                 seed: int = 42,\n",
        "                 size: int = 224,\n",
        "                 n_splits: int = 5,\n",
        "                 batch_size: int = 16,\n",
        "                 epochs: int = 25,\n",
        "                 early_stopping: int = 5,\n",
        "                 lr: float = 1e-4,\n",
        "                 wd: float = 0.0,\n",
        "                 max_lr: float = 1e-3,\n",
        "                 pct_start: float = 0.2,\n",
        "                 steps_per_epoch: int = 100,\n",
        "                 div_factor: int = 1e3, \n",
        "                 final_div_factor: float = 1e3,\n",
        "                 patience: int = 5,\n",
        "                 eps: float = 1e-8,\n",
        "                 freeze: bool = False,\n",
        "                 train_transform=None,\n",
        "                 ):\n",
        "        \n",
        "        self.seed = seed\n",
        "        self.size = size\n",
        "        self.n_splits = n_splits\n",
        "        self.batch_size = batch_size\n",
        "        self.epochs = epochs\n",
        "        self.early_stopping = early_stopping\n",
        "        self.lr = lr\n",
        "        self.wd = wd\n",
        "        self.max_lr = max_lr\n",
        "        self.pct_start = pct_start\n",
        "        self.steps_per_epoch = steps_per_epoch\n",
        "        self.div_factor = div_factor\n",
        "        self.final_div_factor = final_div_factor\n",
        "        self.device = torch.device(\"cuda\" if torch.cuda.is_available() else \"cpu\")\n",
        "        self.patience = patience\n",
        "        self.eps = eps\n",
        "\n",
        "        self.train_base_path = \"\"\n",
        "        self.test_base_path = \"\"\n",
        "        \n",
        "        self.freeze = freeze\n",
        "        if not self.freeze:\n",
        "            self.train_transform = transforms.Compose([transforms.ToTensor(), transforms.Normalize([r_mean, g_mean, b_mean], [r_std, g_std, b_std])])\n",
        "        else:\n",
        "            self.train_transform = transforms.Compose([transforms.ToTensor(), transforms.Normalize([0.485, 0.456, 0.406], [0.229, 0.224, 0.225])])\n",
        "        self.test_transform = transforms.Compose([transforms.ToTensor(), ])\n",
        "        self.save_path = \"saves\"\n",
        "        if not os.path.exists(self.save_path): os.makedirs(self.save_path)\n",
        "\n",
        "    \n",
        "cfg = ClassifierCFG(seed=SEED, size=SIZE)"
      ],
      "metadata": {
        "id": "zXY0rQorbItf"
      },
      "execution_count": 17,
      "outputs": []
    },
    {
      "cell_type": "markdown",
      "source": [
        "**Dataset Template**"
      ],
      "metadata": {
        "id": "URL2NVYraIGv"
      }
    },
    {
      "cell_type": "code",
      "source": [
        "class ClassifierDS(Dataset):\n",
        "    def __init__(self, images: np.ndarray, labels: np.ndarray=None, transform=None):\n",
        "        self.images = images\n",
        "        self.labels = labels\n",
        "\n",
        "        assert transform is not None, \"transform cannot be None\"\n",
        "\n",
        "        self.transform = transform\n",
        "\n",
        "    def __len__(self):\n",
        "        return self.images.shape[0]\n",
        "    \n",
        "    def __getitem__(self, idx):\n",
        "        if self.labels is not None:\n",
        "            return self.transform(self.images[idx]), torch.LongTensor(self.labels[idx])\n",
        "        else:\n",
        "            return self.transform(self.images[idx])"
      ],
      "metadata": {
        "id": "3iUXPycqaHsf"
      },
      "execution_count": 10,
      "outputs": []
    },
    {
      "cell_type": "markdown",
      "source": [
        "**Classifier Model**"
      ],
      "metadata": {
        "id": "V-LjsFfCXbNm"
      }
    },
    {
      "cell_type": "code",
      "source": [
        "class Classifier(nn.Module):\n",
        "    def __init__(self, freeze: bool=False):\n",
        "        super(Classifier, self).__init__()\n",
        "\n",
        "        self.encoder = models.resnet50(pretrained=True, progress=True)\n",
        "        if freeze: self.freeze()\n",
        "\n",
        "        self.encoder = nn.Sequential(*[*self.encoder.children()][:-2])\n",
        "        self.AAP = nn.AdaptiveAvgPool2d(output_size=(1, 1))\n",
        "        self.classifier = nn.Linear(in_features=2048, out_features=10)\n",
        "    \n",
        "    def freeze(self):\n",
        "        for params in self.parameters(): params.requires_grad = False\n",
        "    \n",
        "    def forward(self, x):\n",
        "        encoded = self.encoder(x)\n",
        "        encoded_aap = self.AAP(encoded)\n",
        "        encoded_aap = encoded_aap.view(encoded_aap.shape[0], -1)\n",
        "        classified = nn.LogSoftmax(dim=1)(self.classifier(encoded_aap))\n",
        "        return encoded, encoded_aap, classified"
      ],
      "metadata": {
        "id": "Jd2_otV7XanE"
      },
      "execution_count": 11,
      "outputs": []
    },
    {
      "cell_type": "code",
      "source": [
        "# model = Classifier(True)\n",
        "\n",
        "# for names, params in model.named_parameters():\n",
        "#     if params.requires_grad:\n",
        "#         print(names)"
      ],
      "metadata": {
        "id": "yuvPYNE0h9mF"
      },
      "execution_count": 12,
      "outputs": []
    },
    {
      "cell_type": "markdown",
      "source": [
        "**Fit and Predict Helper**"
      ],
      "metadata": {
        "id": "bMOuBs8ka80y"
      }
    },
    {
      "cell_type": "code",
      "source": [
        "def fit(model=None, \n",
        "        optimizer=None, \n",
        "        scheduler_oclr=None, \n",
        "        scheduler_rlrop=None, \n",
        "        epochs=None, \n",
        "        early_stopping_patience=None, \n",
        "        dataloaders=None, \n",
        "        fold=None, \n",
        "        save_path=None,\n",
        "        device=None,\n",
        "        verbose=False) -> tuple:\n",
        "    \n",
        "    def get_accuracy(y_pred, y_true):\n",
        "        y_pred = torch.argmax(y_pred, dim=1)\n",
        "        return torch.count_nonzero(y_pred == y_true).item() / len(y_pred)\n",
        "    \n",
        "    if verbose:\n",
        "        breaker()\n",
        "        if fold: print(f\"Training Fold {fold}...\")\n",
        "        else: print(\"Training ...\")\n",
        "        breaker()\n",
        "    \n",
        "    bestLoss, bestAccs = {\"train\" : np.inf, \"valid\" : np.inf}, {\"train\" : 0.0, \"valid\" : 0.0}\n",
        "    Losses, Accuracies, LRs = [], [], []\n",
        "    if fold: name = f\"state_fold_{fold}.pt\"\n",
        "    else: name = \"state.pt\"\n",
        "\n",
        "    start_time = time()\n",
        "    for e in range(epochs):\n",
        "        e_st = time()\n",
        "        epochLoss, epochAccs = {\"train\" : 0.0, \"valid\" : 0.0}, {\"train\" : 0.0, \"valid\" : 0.0}\n",
        "\n",
        "        for phase in [\"train\", \"valid\"]:\n",
        "            if phase == \"train\":\n",
        "                model.train()\n",
        "            else:\n",
        "                model.eval()\n",
        "            \n",
        "            lossPerPass, accsPerPass = [], []\n",
        "\n",
        "            for X, y in dataloaders[phase]:\n",
        "                X, y = X.to(device), y.to(device).view(-1)\n",
        "\n",
        "                optimizer.zero_grad()\n",
        "                with torch.set_grad_enabled(phase == \"train\"):\n",
        "                    _, _, output = model(X)\n",
        "                    loss = torch.nn.NLLLoss()(output, y)\n",
        "                    if phase == \"train\":\n",
        "                        loss.backward()\n",
        "                        optimizer.step()\n",
        "                        if scheduler_oclr: scheduler_oclr.step()\n",
        "                lossPerPass.append(loss.item())\n",
        "                accsPerPass.append(get_accuracy(output, y))\n",
        "            epochLoss[phase] = np.mean(np.array(lossPerPass))\n",
        "            epochAccs[phase] = np.mean(np.array(accsPerPass))\n",
        "        if scheduler_oclr: LRs.append(scheduler_oclr.get_last_lr())\n",
        "        Losses.append(epochLoss)\n",
        "        Accuracies.append(epochAccs)\n",
        "\n",
        "        if scheduler_oclr:\n",
        "            save_dict = {\n",
        "                \"model_state_dict\"     : model.state_dict(),\n",
        "                \"optim_state_dict\"     : optimizer.state_dict(),\n",
        "                \"scheduler_state_dict\" : scheduler_oclr.state_dict(),\n",
        "            }\n",
        "        \n",
        "        elif scheduler_rlrop:\n",
        "            save_dict = {\n",
        "                \"model_state_dict\"     : model.state_dict(),\n",
        "                \"optim_state_dict\"     : optimizer.state_dict(),\n",
        "                \"scheduler_state_dict\" : scheduler_rlrop.state_dict(),\n",
        "            }\n",
        "        \n",
        "        else:\n",
        "            save_dict = {\n",
        "                \"model_state_dict\"     : model.state_dict(),\n",
        "                \"optim_state_dict\"     : optimizer.state_dict(),\n",
        "            }\n",
        "        \n",
        "        if early_stopping_patience:\n",
        "            if epochLoss[\"valid\"] < bestLoss[\"valid\"]:\n",
        "                bestLoss = epochLoss\n",
        "                BLE = e + 1\n",
        "                torch.save(save_dict, os.path.join(save_path, name))\n",
        "                early_stopping_step = 0\n",
        "            else:\n",
        "                early_stopping_step += 1\n",
        "                if early_stopping_step > early_stopping_patience:\n",
        "                    print(\"\\nEarly Stopping at Epoch {}\".format(e + 1))\n",
        "                    break\n",
        "        \n",
        "        if epochLoss[\"valid\"] < bestLoss[\"valid\"]:\n",
        "            bestLoss = epochLoss\n",
        "            BLE = e + 1\n",
        "            torch.save(save_dict, os.path.join(save_path, name))\n",
        "        \n",
        "        if epochAccs[\"valid\"] > bestAccs[\"valid\"]:\n",
        "            bestAccs = epochAccs\n",
        "            BAE = e + 1\n",
        "    \n",
        "        if scheduler_rlrop: scheduler_rlrop.step(epochLoss[\"valid\"])\n",
        "    \n",
        "        if verbose:\n",
        "            print(\"Epoch: {} | Train Loss: {:.5f} | Valid Loss: {:.5f} |\\\n",
        " Train Accs: {:.5f} | Valid Accs: {:.5f} | Time: {:.2f} seconds\".format(e+1, \n",
        "                                                                        epochLoss[\"train\"], epochLoss[\"valid\"], \n",
        "                                                                        epochAccs[\"train\"], epochAccs[\"valid\"], \n",
        "                                                                        time()-e_st))\n",
        "        \n",
        "    if verbose:                                           \n",
        "        breaker()\n",
        "        print(f\"Best Validation Loss at Epoch {BLE}\")\n",
        "        breaker()\n",
        "        print(f\"Best Validation Accs at Epoch {BAE}\")\n",
        "        breaker()\n",
        "        print(\"Time Taken [{} Epochs] : {:.2f} minutes\".format(len(Losses), (time()-start_time)/60))\n",
        "    \n",
        "    return Losses, Accuracies, LRs, BLE, BAE, name\n",
        "\n",
        "\n",
        "def predict_batch(model=None, dataloader=None, device=None, path=None, mode=\"test\") -> np.ndarray:\n",
        "    model.load_state_dict(torch.load(path, map_location=device)[\"model_state_dict\"])\n",
        "    model.to(device)\n",
        "    model.eval()\n",
        "\n",
        "    y_pred = torch.zeros(1, 1).to(device)\n",
        "\n",
        "    if mode == \"valid\":\n",
        "        for X, _ in dataloader:\n",
        "            X = X.to(device)\n",
        "            with torch.no_grad(): \n",
        "                _, _, output = model(X)\n",
        "                output = torch.argmax(output, dim=1)\n",
        "            y_pred = torch.cat((y_pred, output.view(-1, 1)), dim=0)\n",
        "    else:\n",
        "        for X in dataloader:\n",
        "            X = X.to(device)\n",
        "            with torch.no_grad():\n",
        "                _, _, output = model(X)\n",
        "                output = torch.argmax(output, dim=1)\n",
        "            y_pred = torch.cat((y_pred, output.view(-1, 1)), dim=0)\n",
        "    \n",
        "    return y_pred[1:].detach().cpu().numpy()"
      ],
      "metadata": {
        "id": "y8X5WuZfa8bZ"
      },
      "execution_count": 13,
      "outputs": []
    },
    {
      "cell_type": "markdown",
      "source": [
        "**Train and Test(Freeze=False)**"
      ],
      "metadata": {
        "id": "IBGXyjwrdqBN"
      }
    },
    {
      "cell_type": "code",
      "source": [
        "cfg = ClassifierCFG(freeze=False)\n",
        "\n",
        "for tr_idx, va_idx in StratifiedKFold(n_splits=cfg.n_splits, random_state=cfg.seed, shuffle=True).split(train_X, train_y):\n",
        "    break\n",
        "\n",
        "tr_images, va_images, tr_labels, va_labels = train_X[tr_idx], train_X[va_idx], train_y[tr_idx], train_y[va_idx]\n",
        "\n",
        "tr_data_setup = ClassifierDS(tr_images, tr_labels.reshape(-1, 1), cfg.train_transform)\n",
        "va_data_setup = ClassifierDS(va_images, va_labels.reshape(-1, 1), cfg.test_transform)\n",
        "\n",
        "dataloaders = {\n",
        "    \"train\" : DL(tr_data_setup, batch_size=cfg.batch_size, shuffle=True, generator=torch.manual_seed(cfg.seed)),\n",
        "    \"valid\" : DL(va_data_setup, batch_size=cfg.batch_size, shuffle=False),\n",
        "}\n",
        "\n",
        "cfg = ClassifierCFG(lr=1e-3, wd=0.0, epochs=25, batch_size=64, steps_per_epoch=len(dataloaders[\"train\"]))\n",
        "\n",
        "torch.manual_seed(cfg.seed)\n",
        "model = Classifier(freeze=cfg.freeze).to(cfg.device)\n",
        "optimizer = optim.Adam([p for p in model.parameters() if p.requires_grad], lr=cfg.lr, weight_decay=cfg.wd)\n",
        "\n",
        "# scheduler_oclr = optim.lr_scheduler.OneCycleLR(optimizer=optimizer, \n",
        "#                                                max_lr=cfg.max_lr, \n",
        "#                                                epochs=cfg.epochs, \n",
        "#                                                steps_per_epoch=cfg.steps_per_epoch,\n",
        "#                                                pct_start=cfg.pct_start, \n",
        "#                                                div_factor=cfg.div_factor, \n",
        "#                                                final_div_factor=cfg.final_div_factor)\n",
        "# scheduler_rlrop = optim.lr_scheduler.ReduceLROnPlateau(optimizer=optimizer,\n",
        "#                                                        patience=cfg.patience,\n",
        "#                                                        eps=cfg.eps,\n",
        "#                                                        verbose=True)\n",
        "\n",
        "scheduler_oclr = None\n",
        "scheduler_rlrop = None\n",
        "\n",
        "L, A, LR, BLE, BAE, name = fit(model=model, \n",
        "                                optimizer=optimizer, \n",
        "                                scheduler_oclr=scheduler_oclr,\n",
        "                                scheduler_rlrop=scheduler_rlrop,\n",
        "                                epochs=cfg.epochs, \n",
        "                                early_stopping_patience=cfg.early_stopping, \n",
        "                                dataloaders=dataloaders,  \n",
        "                                save_path=cfg.save_path,\n",
        "                                device=cfg.device,\n",
        "                                verbose=True)\n",
        "\n",
        "breaker()\n",
        "show_loss_graphs(L)\n",
        "show_accuracy_graphs(A)\n",
        "if len(LR) > 0: show_lr_graph(LR)"
      ],
      "metadata": {
        "id": "Xd8vLLpudrlD",
        "colab": {
          "base_uri": "https://localhost:8080/",
          "height": 1000,
          "referenced_widgets": [
            "900f5b9e74074e48a110feddae011ae4",
            "d01f88132dc04eaaadcaff6f26f6e453",
            "b9b75a7b2f6f41768498181bd11ab6a4",
            "344cf893406f471aa8133d4b9017d67a",
            "24e6f00aa2bd4f48a70288960588a2e2",
            "4da59855961f4e2a80c877d4353dbace",
            "ed71527ed51740a5b018b2efce2c0560",
            "04a0001e050b44f5bf561aaaa7ef3156",
            "0fb7d4c0b6bd4186aabce2d7c76b783d",
            "bb1c6dd331b34a54ac98d30bb4946a7a",
            "34bc003470be4731a03289dcce7de166"
          ]
        },
        "outputId": "cd70e324-a8d3-463d-df57-1040917f01b3"
      },
      "execution_count": 18,
      "outputs": [
        {
          "output_type": "stream",
          "name": "stderr",
          "text": [
            "Downloading: \"https://download.pytorch.org/models/resnet50-0676ba61.pth\" to /root/.cache/torch/hub/checkpoints/resnet50-0676ba61.pth\n"
          ]
        },
        {
          "output_type": "display_data",
          "data": {
            "text/plain": [
              "  0%|          | 0.00/97.8M [00:00<?, ?B/s]"
            ],
            "application/vnd.jupyter.widget-view+json": {
              "version_major": 2,
              "version_minor": 0,
              "model_id": "900f5b9e74074e48a110feddae011ae4"
            }
          },
          "metadata": {}
        },
        {
          "output_type": "stream",
          "name": "stdout",
          "text": [
            "\n",
            "**************************************************\n",
            "\n",
            "Training ...\n",
            "\n",
            "**************************************************\n",
            "\n",
            "Epoch: 1 | Train Loss: 1.79507 | Valid Loss: 2.69433 | Train Accs: 0.36250 | Valid Accs: 0.20536 | Time: 40.80 seconds\n",
            "Epoch: 2 | Train Loss: 1.37564 | Valid Loss: 2.62451 | Train Accs: 0.50750 | Valid Accs: 0.19147 | Time: 40.07 seconds\n",
            "Epoch: 3 | Train Loss: 1.19535 | Valid Loss: 3.23825 | Train Accs: 0.57500 | Valid Accs: 0.12401 | Time: 39.54 seconds\n",
            "Epoch: 4 | Train Loss: 1.04182 | Valid Loss: 2.41740 | Train Accs: 0.63250 | Valid Accs: 0.21825 | Time: 39.97 seconds\n",
            "Epoch: 5 | Train Loss: 0.91348 | Valid Loss: 2.49631 | Train Accs: 0.68450 | Valid Accs: 0.20933 | Time: 39.12 seconds\n",
            "Epoch: 6 | Train Loss: 0.76491 | Valid Loss: 2.70779 | Train Accs: 0.73100 | Valid Accs: 0.20734 | Time: 39.08 seconds\n",
            "Epoch: 7 | Train Loss: 0.60555 | Valid Loss: 2.57154 | Train Accs: 0.79025 | Valid Accs: 0.25595 | Time: 39.09 seconds\n",
            "Epoch: 8 | Train Loss: 0.54062 | Valid Loss: 3.06794 | Train Accs: 0.81825 | Valid Accs: 0.20536 | Time: 39.05 seconds\n",
            "Epoch: 9 | Train Loss: 0.40643 | Valid Loss: 3.14206 | Train Accs: 0.85775 | Valid Accs: 0.18948 | Time: 39.13 seconds\n",
            "\n",
            "Early Stopping at Epoch 10\n",
            "\n",
            "**************************************************\n",
            "\n",
            "Best Validation Loss at Epoch 4\n",
            "\n",
            "**************************************************\n",
            "\n",
            "Best Validation Accs at Epoch 7\n",
            "\n",
            "**************************************************\n",
            "\n",
            "Time Taken [10 Epochs] : 6.58 minutes\n",
            "\n",
            "**************************************************\n",
            "\n"
          ]
        },
        {
          "output_type": "display_data",
          "data": {
            "text/plain": [
              "<Figure size 576x432 with 1 Axes>"
            ],
            "image/png": "[encoded data removed]"
          },
          "metadata": {
            "needs_background": "light"
          }
        },
        {
          "output_type": "display_data",
          "data": {
            "text/plain": [
              "<Figure size 576x432 with 1 Axes>"
            ],
            "image/png": "[encoded data removed]"
          },
          "metadata": {
            "needs_background": "light"
          }
        }
      ]
    },
    {
      "cell_type": "code",
      "source": [
        "ts_data_setup = ClassifierDS(test_X, None, cfg.test_transform)\n",
        "ts_data = DL(ts_data_setup, batch_size=cfg.batch_size, shuffle=False)\n",
        "\n",
        "y_pred = predict_batch(model=model, \n",
        "                       dataloader=ts_data, \n",
        "                       device=cfg.device, \n",
        "                       path=os.path.join(cfg.save_path, name), \n",
        "                       mode=\"test\")\n",
        "\n",
        "breaker()\n",
        "print(f\"Accuracy : {(accuracy_score(test_y, y_pred)):.5f}\")\n",
        "breaker()"
      ],
      "metadata": {
        "colab": {
          "base_uri": "https://localhost:8080/"
        },
        "id": "iOb9XfLLdI31",
        "outputId": "6f98e229-4ca2-4d3d-fa32-cdb9bb7aa759"
      },
      "execution_count": 19,
      "outputs": [
        {
          "output_type": "stream",
          "name": "stdout",
          "text": [
            "\n",
            "**************************************************\n",
            "\n",
            "Accuracy : 0.22200\n",
            "\n",
            "**************************************************\n",
            "\n"
          ]
        }
      ]
    },
    {
      "cell_type": "markdown",
      "source": [
        "**Train and Test (Freeze=True)**"
      ],
      "metadata": {
        "id": "yev2HxIjpQnG"
      }
    },
    {
      "cell_type": "code",
      "source": [
        "cfg = ClassifierCFG(freeze=True, lr=1e-3, wd=0.0, epochs=25, batch_size=64, steps_per_epoch=len(dataloaders[\"train\"]))\n",
        "\n",
        "for tr_idx, va_idx in StratifiedKFold(n_splits=cfg.n_splits, random_state=cfg.seed, shuffle=True).split(train_X, train_y):\n",
        "    break\n",
        "\n",
        "tr_images, va_images, tr_labels, va_labels = train_X[tr_idx], train_X[va_idx], train_y[tr_idx], train_y[va_idx]\n",
        "\n",
        "tr_data_setup = ClassifierDS(tr_images, tr_labels.reshape(-1, 1), cfg.train_transform)\n",
        "va_data_setup = ClassifierDS(va_images, va_labels.reshape(-1, 1), cfg.test_transform)\n",
        "\n",
        "dataloaders = {\n",
        "    \"train\" : DL(tr_data_setup, batch_size=cfg.batch_size, shuffle=True, generator=torch.manual_seed(cfg.seed)),\n",
        "    \"valid\" : DL(va_data_setup, batch_size=cfg.batch_size, shuffle=False),\n",
        "}\n",
        "\n",
        "torch.manual_seed(cfg.seed)\n",
        "model = Classifier(freeze=cfg.freeze).to(cfg.device)\n",
        "optimizer = optim.Adam([p for p in model.parameters() if p.requires_grad], lr=cfg.lr, weight_decay=cfg.wd)\n",
        "\n",
        "# scheduler_oclr = optim.lr_scheduler.OneCycleLR(optimizer=optimizer, \n",
        "#                                                max_lr=cfg.max_lr, \n",
        "#                                                epochs=cfg.epochs, \n",
        "#                                                steps_per_epoch=cfg.steps_per_epoch,\n",
        "#                                                pct_start=cfg.pct_start, \n",
        "#                                                div_factor=cfg.div_factor, \n",
        "#                                                final_div_factor=cfg.final_div_factor)\n",
        "# scheduler_rlrop = optim.lr_scheduler.ReduceLROnPlateau(optimizer=optimizer,\n",
        "#                                                        patience=cfg.patience,\n",
        "#                                                        eps=cfg.eps,\n",
        "#                                                        verbose=True)\n",
        "\n",
        "scheduler_oclr = None\n",
        "scheduler_rlrop = None\n",
        "\n",
        "L, A, LR, BLE, BAE, name = fit(model=model, \n",
        "                                optimizer=optimizer, \n",
        "                                scheduler_oclr=scheduler_oclr,\n",
        "                                scheduler_rlrop=scheduler_rlrop,\n",
        "                                epochs=cfg.epochs, \n",
        "                                early_stopping_patience=cfg.early_stopping, \n",
        "                                dataloaders=dataloaders,  \n",
        "                                save_path=cfg.save_path,\n",
        "                                device=cfg.device,\n",
        "                                verbose=True)\n",
        "\n",
        "breaker()\n",
        "show_loss_graphs(L)\n",
        "show_accuracy_graphs(A)\n",
        "if len(LR) > 0: show_lr_graph(LR)"
      ],
      "metadata": {
        "colab": {
          "base_uri": "https://localhost:8080/",
          "height": 1000
        },
        "id": "WVVCHYSdpQTL",
        "outputId": "7c384783-c1cf-47c4-e8e0-c882d2c7ba19"
      },
      "execution_count": 20,
      "outputs": [
        {
          "output_type": "stream",
          "name": "stdout",
          "text": [
            "\n",
            "**************************************************\n",
            "\n",
            "Training ...\n",
            "\n",
            "**************************************************\n",
            "\n",
            "Epoch: 1 | Train Loss: 1.90704 | Valid Loss: 4.02496 | Train Accs: 0.30630 | Valid Accs: 0.10430 | Time: 9.91 seconds\n",
            "Epoch: 2 | Train Loss: 1.54639 | Valid Loss: 4.62712 | Train Accs: 0.44618 | Valid Accs: 0.11680 | Time: 9.60 seconds\n",
            "Epoch: 3 | Train Loss: 1.44378 | Valid Loss: 3.60560 | Train Accs: 0.47545 | Valid Accs: 0.13164 | Time: 9.92 seconds\n",
            "Epoch: 4 | Train Loss: 1.35975 | Valid Loss: 4.05356 | Train Accs: 0.50397 | Valid Accs: 0.14414 | Time: 9.56 seconds\n",
            "Epoch: 5 | Train Loss: 1.36239 | Valid Loss: 3.94537 | Train Accs: 0.50595 | Valid Accs: 0.13320 | Time: 9.58 seconds\n",
            "Epoch: 6 | Train Loss: 1.31843 | Valid Loss: 3.86569 | Train Accs: 0.52406 | Valid Accs: 0.13008 | Time: 9.59 seconds\n",
            "Epoch: 7 | Train Loss: 1.25537 | Valid Loss: 4.45657 | Train Accs: 0.55382 | Valid Accs: 0.13184 | Time: 9.61 seconds\n",
            "Epoch: 8 | Train Loss: 1.24121 | Valid Loss: 4.20735 | Train Accs: 0.55308 | Valid Accs: 0.14668 | Time: 9.60 seconds\n",
            "\n",
            "Early Stopping at Epoch 9\n",
            "\n",
            "**************************************************\n",
            "\n",
            "Best Validation Loss at Epoch 3\n",
            "\n",
            "**************************************************\n",
            "\n",
            "Best Validation Accs at Epoch 8\n",
            "\n",
            "**************************************************\n",
            "\n",
            "Time Taken [9 Epochs] : 1.45 minutes\n",
            "\n",
            "**************************************************\n",
            "\n"
          ]
        },
        {
          "output_type": "display_data",
          "data": {
            "text/plain": [
              "<Figure size 576x432 with 1 Axes>"
            ],
            "image/png": "[encoded data removed]"
          },
          "metadata": {
            "needs_background": "light"
          }
        },
        {
          "output_type": "display_data",
          "data": {
            "text/plain": [
              "<Figure size 576x432 with 1 Axes>"
            ],
            "image/png": "[encoded data removed]"
          },
          "metadata": {
            "needs_background": "light"
          }
        }
      ]
    },
    {
      "cell_type": "code",
      "source": [
        "ts_data_setup = ClassifierDS(test_X, None, cfg.test_transform)\n",
        "ts_data = DL(ts_data_setup, batch_size=cfg.batch_size, shuffle=False)\n",
        "\n",
        "y_pred = predict_batch(model=model, \n",
        "                       dataloader=ts_data, \n",
        "                       device=cfg.device, \n",
        "                       path=os.path.join(cfg.save_path, name), \n",
        "                       mode=\"test\")\n",
        "\n",
        "breaker()\n",
        "print(f\"Accuracy : {(accuracy_score(test_y, y_pred)):.5f}\")\n",
        "breaker()"
      ],
      "metadata": {
        "colab": {
          "base_uri": "https://localhost:8080/"
        },
        "id": "_gyCzDYNpgoH",
        "outputId": "e2488c53-a569-4689-b679-fe378971cda8"
      },
      "execution_count": 21,
      "outputs": [
        {
          "output_type": "stream",
          "name": "stdout",
          "text": [
            "\n",
            "**************************************************\n",
            "\n",
            "Accuracy : 0.13900\n",
            "\n",
            "**************************************************\n",
            "\n"
          ]
        }
      ]
    },
    {
      "cell_type": "markdown",
      "source": [
        "### **Using Unlabelled Data**"
      ],
      "metadata": {
        "id": "t3RoBxn-gd3-"
      }
    },
    {
      "cell_type": "code",
      "source": [
        ""
      ],
      "metadata": {
        "id": "dYSMyOrkdNcz"
      },
      "execution_count": null,
      "outputs": []
    }
  ]
}